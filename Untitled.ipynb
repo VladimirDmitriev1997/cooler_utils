{
 "cells": [
  {
   "cell_type": "code",
   "execution_count": 6,
   "id": "adolescent-henry",
   "metadata": {},
   "outputs": [],
   "source": [
    "import numpy as np\n",
    "import scipy.sparse as sparse\n",
    "from cooltools.lib import numutils"
   ]
  },
  {
   "cell_type": "code",
   "execution_count": 7,
   "id": "latest-circulation",
   "metadata": {},
   "outputs": [],
   "source": [
    "from numpy.random import default_rng\n",
    "\n",
    "rng = default_rng()\n",
    "row = rng.choice(100, size=100, replace=False)\n",
    "col = rng.choice(100, size=100, replace=False)\n",
    "data = np.random.randn(100)"
   ]
  },
  {
   "cell_type": "code",
   "execution_count": 11,
   "id": "complicated-forty",
   "metadata": {},
   "outputs": [],
   "source": [
    "mtx = sparse.coo_matrix((data, (row, col)), shape=(100, 100)).tocsr()"
   ]
  },
  {
   "cell_type": "code",
   "execution_count": 14,
   "id": "featured-pierce",
   "metadata": {},
   "outputs": [
    {
     "name": "stderr",
     "output_type": "stream",
     "text": [
      "/users/vladimir.dmitriev/.conda/envs/HiC_env/lib/python3.9/site-packages/scipy/sparse/_index.py:82: SparseEfficiencyWarning: Changing the sparsity structure of a csr_matrix is expensive. lil_matrix is more efficient.\n",
      "  self._set_intXint(row, col, x.flat[0])\n"
     ]
    }
   ],
   "source": [
    "mtx[1,1] = np.inf"
   ]
  },
  {
   "cell_type": "code",
   "execution_count": 17,
   "id": "american-breath",
   "metadata": {},
   "outputs": [
    {
     "ename": "IndexError",
     "evalue": "too many indices for array: array is 1-dimensional, but 2 were indexed",
     "output_type": "error",
     "traceback": [
      "\u001b[0;31m---------------------------------------------------------------------------\u001b[0m",
      "\u001b[0;31mIndexError\u001b[0m                                Traceback (most recent call last)",
      "\u001b[0;32m/tmp/ipykernel_26241/24904944.py\u001b[0m in \u001b[0;36m<module>\u001b[0;34m\u001b[0m\n\u001b[0;32m----> 1\u001b[0;31m \u001b[0mmtx\u001b[0m\u001b[0;34m.\u001b[0m\u001b[0mdata\u001b[0m\u001b[0;34m[\u001b[0m\u001b[0;36m9\u001b[0m\u001b[0;34m,\u001b[0m\u001b[0;36m8\u001b[0m\u001b[0;34m]\u001b[0m\u001b[0;34m\u001b[0m\u001b[0;34m\u001b[0m\u001b[0m\n\u001b[0m",
      "\u001b[0;31mIndexError\u001b[0m: too many indices for array: array is 1-dimensional, but 2 were indexed"
     ]
    }
   ],
   "source": [
    "mtx.data[9,8]"
   ]
  },
  {
   "cell_type": "code",
   "execution_count": 18,
   "id": "vietnamese-karaoke",
   "metadata": {},
   "outputs": [],
   "source": [
    "mtx.data[~np.isfinite(mtx.data)] = 0"
   ]
  },
  {
   "cell_type": "code",
   "execution_count": 19,
   "id": "defensive-release",
   "metadata": {},
   "outputs": [
    {
     "data": {
      "text/plain": [
       "array([ 0.53562419,  0.        ,  1.78834153, -0.06920757,  0.60574056,\n",
       "       -0.08167755, -2.22712918,  0.30083391,  0.7148799 , -0.09521689,\n",
       "        0.24865217,  1.97572481, -0.20438857, -0.66804923, -1.63392085,\n",
       "       -0.72770759,  0.0753322 ,  1.18453266, -2.25718249, -0.92345719,\n",
       "        0.23770494, -1.8493426 ,  1.38149566,  0.36480971,  0.17625926,\n",
       "        1.30125377,  0.46057695, -1.37219574, -0.72194577,  0.1447798 ,\n",
       "       -0.56626949, -0.84939832,  0.22218271, -0.69154271, -0.26849011,\n",
       "       -0.8665303 , -1.68227482,  0.6329005 ,  1.51394753, -0.75206338,\n",
       "       -0.71694974,  0.72399708,  1.18913631,  0.19622696,  1.21415811,\n",
       "        1.54064826,  1.9346915 , -2.05725175,  2.19255672, -1.99355696,\n",
       "        0.30582842, -0.49092995,  0.75850984, -0.5396576 , -0.02967085,\n",
       "        0.05778078, -1.48144766,  0.13979335, -1.3197599 , -1.24798868,\n",
       "        1.11269364,  1.28176461,  1.36152214,  1.90970201,  2.59649379,\n",
       "       -0.39744354, -1.09682752,  0.06539789,  1.52431447, -1.2844916 ,\n",
       "       -0.48536007, -0.88226473, -0.36596791, -0.26883097, -0.33777655,\n",
       "        0.46114432,  0.06344181, -0.76558857, -2.35049645, -1.13578936,\n",
       "       -0.69623781, -0.77119916,  1.4250973 , -1.42767444,  0.24388549,\n",
       "       -0.40578836, -0.55399606,  1.12171288, -0.57062874, -0.889032  ,\n",
       "       -0.52631445,  1.17135148,  0.36268045, -0.43061845,  0.80741925,\n",
       "       -0.06346147,  0.28987236, -0.49746062,  0.80055267, -0.0493261 ,\n",
       "       -0.40351008])"
      ]
     },
     "execution_count": 19,
     "metadata": {},
     "output_type": "execute_result"
    }
   ],
   "source": [
    "mtx.data"
   ]
  },
  {
   "cell_type": "code",
   "execution_count": 20,
   "id": "faced-planning",
   "metadata": {},
   "outputs": [
    {
     "ename": "AttributeError",
     "evalue": "flat not found",
     "output_type": "error",
     "traceback": [
      "\u001b[0;31m---------------------------------------------------------------------------\u001b[0m",
      "\u001b[0;31mAttributeError\u001b[0m                            Traceback (most recent call last)",
      "\u001b[0;32m/tmp/ipykernel_26241/3578309874.py\u001b[0m in \u001b[0;36m<module>\u001b[0;34m\u001b[0m\n\u001b[1;32m      1\u001b[0m \u001b[0mignore_diags\u001b[0m \u001b[0;34m=\u001b[0m \u001b[0;36m2\u001b[0m\u001b[0;34m\u001b[0m\u001b[0;34m\u001b[0m\u001b[0m\n\u001b[1;32m      2\u001b[0m \u001b[0;32mfor\u001b[0m \u001b[0md\u001b[0m \u001b[0;32min\u001b[0m \u001b[0mrange\u001b[0m\u001b[0;34m(\u001b[0m\u001b[0;34m-\u001b[0m\u001b[0mignore_diags\u001b[0m \u001b[0;34m+\u001b[0m \u001b[0;36m1\u001b[0m\u001b[0;34m,\u001b[0m \u001b[0mignore_diags\u001b[0m\u001b[0;34m)\u001b[0m\u001b[0;34m:\u001b[0m\u001b[0;34m\u001b[0m\u001b[0;34m\u001b[0m\u001b[0m\n\u001b[0;32m----> 3\u001b[0;31m     \u001b[0mnumutils\u001b[0m\u001b[0;34m.\u001b[0m\u001b[0mset_diag\u001b[0m\u001b[0;34m(\u001b[0m\u001b[0mmtx\u001b[0m\u001b[0;34m,\u001b[0m \u001b[0;36m1.0\u001b[0m\u001b[0;34m,\u001b[0m \u001b[0md\u001b[0m\u001b[0;34m)\u001b[0m\u001b[0;34m\u001b[0m\u001b[0;34m\u001b[0m\u001b[0m\n\u001b[0m",
      "\u001b[0;32m~/src/cooltools/cooltools/lib/numutils.py\u001b[0m in \u001b[0;36mset_diag\u001b[0;34m(arr, x, i, copy)\u001b[0m\n\u001b[1;32m     65\u001b[0m     \u001b[0mstop\u001b[0m \u001b[0;34m=\u001b[0m \u001b[0mmax\u001b[0m\u001b[0;34m(\u001b[0m\u001b[0;36m0\u001b[0m\u001b[0;34m,\u001b[0m \u001b[0;34m(\u001b[0m\u001b[0marr\u001b[0m\u001b[0;34m.\u001b[0m\u001b[0mshape\u001b[0m\u001b[0;34m[\u001b[0m\u001b[0;36m1\u001b[0m\u001b[0;34m]\u001b[0m \u001b[0;34m-\u001b[0m \u001b[0mi\u001b[0m\u001b[0;34m)\u001b[0m\u001b[0;34m)\u001b[0m \u001b[0;34m*\u001b[0m \u001b[0marr\u001b[0m\u001b[0;34m.\u001b[0m\u001b[0mshape\u001b[0m\u001b[0;34m[\u001b[0m\u001b[0;36m1\u001b[0m\u001b[0;34m]\u001b[0m\u001b[0;34m\u001b[0m\u001b[0;34m\u001b[0m\u001b[0m\n\u001b[1;32m     66\u001b[0m     \u001b[0mstep\u001b[0m \u001b[0;34m=\u001b[0m \u001b[0marr\u001b[0m\u001b[0;34m.\u001b[0m\u001b[0mshape\u001b[0m\u001b[0;34m[\u001b[0m\u001b[0;36m1\u001b[0m\u001b[0;34m]\u001b[0m \u001b[0;34m+\u001b[0m \u001b[0;36m1\u001b[0m\u001b[0;34m\u001b[0m\u001b[0;34m\u001b[0m\u001b[0m\n\u001b[0;32m---> 67\u001b[0;31m     \u001b[0marr\u001b[0m\u001b[0;34m.\u001b[0m\u001b[0mflat\u001b[0m\u001b[0;34m[\u001b[0m\u001b[0mstart\u001b[0m\u001b[0;34m:\u001b[0m\u001b[0mstop\u001b[0m\u001b[0;34m:\u001b[0m\u001b[0mstep\u001b[0m\u001b[0;34m]\u001b[0m \u001b[0;34m=\u001b[0m \u001b[0mx\u001b[0m\u001b[0;34m\u001b[0m\u001b[0;34m\u001b[0m\u001b[0m\n\u001b[0m\u001b[1;32m     68\u001b[0m     \u001b[0;32mreturn\u001b[0m \u001b[0marr\u001b[0m\u001b[0;34m\u001b[0m\u001b[0;34m\u001b[0m\u001b[0m\n\u001b[1;32m     69\u001b[0m \u001b[0;34m\u001b[0m\u001b[0m\n",
      "\u001b[0;32m~/.conda/envs/HiC_env/lib/python3.9/site-packages/scipy/sparse/base.py\u001b[0m in \u001b[0;36m__getattr__\u001b[0;34m(self, attr)\u001b[0m\n\u001b[1;32m    685\u001b[0m             \u001b[0;32mreturn\u001b[0m \u001b[0mself\u001b[0m\u001b[0;34m.\u001b[0m\u001b[0mgetnnz\u001b[0m\u001b[0;34m(\u001b[0m\u001b[0;34m)\u001b[0m\u001b[0;34m\u001b[0m\u001b[0;34m\u001b[0m\u001b[0m\n\u001b[1;32m    686\u001b[0m         \u001b[0;32melse\u001b[0m\u001b[0;34m:\u001b[0m\u001b[0;34m\u001b[0m\u001b[0;34m\u001b[0m\u001b[0m\n\u001b[0;32m--> 687\u001b[0;31m             \u001b[0;32mraise\u001b[0m \u001b[0mAttributeError\u001b[0m\u001b[0;34m(\u001b[0m\u001b[0mattr\u001b[0m \u001b[0;34m+\u001b[0m \u001b[0;34m\" not found\"\u001b[0m\u001b[0;34m)\u001b[0m\u001b[0;34m\u001b[0m\u001b[0;34m\u001b[0m\u001b[0m\n\u001b[0m\u001b[1;32m    688\u001b[0m \u001b[0;34m\u001b[0m\u001b[0m\n\u001b[1;32m    689\u001b[0m     \u001b[0;32mdef\u001b[0m \u001b[0mtranspose\u001b[0m\u001b[0;34m(\u001b[0m\u001b[0mself\u001b[0m\u001b[0;34m,\u001b[0m \u001b[0maxes\u001b[0m\u001b[0;34m=\u001b[0m\u001b[0;32mNone\u001b[0m\u001b[0;34m,\u001b[0m \u001b[0mcopy\u001b[0m\u001b[0;34m=\u001b[0m\u001b[0;32mFalse\u001b[0m\u001b[0;34m)\u001b[0m\u001b[0;34m:\u001b[0m\u001b[0;34m\u001b[0m\u001b[0;34m\u001b[0m\u001b[0m\n",
      "\u001b[0;31mAttributeError\u001b[0m: flat not found"
     ]
    }
   ],
   "source": [
    "ignore_diags = 2\n",
    "for d in range(-ignore_diags + 1, ignore_diags):\n",
    "    numutils.set_diag(mtx, 1.0, d)"
   ]
  },
  {
   "cell_type": "code",
   "execution_count": null,
   "id": "local-batch",
   "metadata": {},
   "outputs": [],
   "source": [
    "!"
   ]
  }
 ],
 "metadata": {
  "kernelspec": {
   "display_name": "HiC",
   "language": "python",
   "name": "hic"
  },
  "language_info": {
   "codemirror_mode": {
    "name": "ipython",
    "version": 3
   },
   "file_extension": ".py",
   "mimetype": "text/x-python",
   "name": "python",
   "nbconvert_exporter": "python",
   "pygments_lexer": "ipython3",
   "version": "3.9.7"
  }
 },
 "nbformat": 4,
 "nbformat_minor": 5
}
